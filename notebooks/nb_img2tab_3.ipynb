{
 "cells": [
  {
   "cell_type": "code",
   "execution_count": 1,
   "metadata": {},
   "outputs": [],
   "source": [
    "# file handling\n",
    "import glob\n",
    "import os\n",
    "from dotenv import load_dotenv\n",
    "import sys\n",
    "\n",
    "# tabular data\n",
    "import pandas as pd\n"
   ]
  },
  {
   "cell_type": "code",
   "execution_count": 2,
   "metadata": {},
   "outputs": [],
   "source": [
    "# User defined functions\n",
    "# Set path for scripts folder\n",
    "path_scripts = os.path.abspath(os.path.join(os.getcwd(), \"..\"))\n",
    "sys.path.append(path_scripts)\n",
    "from src import custom_logging as clogs, config, processing, postprocessing"
   ]
  },
  {
   "cell_type": "code",
   "execution_count": 3,
   "metadata": {},
   "outputs": [
    {
     "data": {
      "text/plain": [
       "True"
      ]
     },
     "execution_count": 3,
     "metadata": {},
     "output_type": "execute_result"
    }
   ],
   "source": [
    "# Load environment variables from .env file\n",
    "load_dotenv()"
   ]
  },
  {
   "cell_type": "code",
   "execution_count": 4,
   "metadata": {},
   "outputs": [],
   "source": [
    "logger = clogs.get_logger()"
   ]
  },
  {
   "cell_type": "code",
   "execution_count": 5,
   "metadata": {},
   "outputs": [],
   "source": [
    "# Replace original path setup with:\n",
    "batch_id = \"05_2025_02\"\n",
    "batch_paths = config.ensure_batch_paths(batch_id)\n",
    "\n",
    "# Use the paths in your code\n",
    "folder_img_path = batch_paths['img']\n",
    "folder_sg_path = batch_paths['sg_excel']\n",
    "folder_output = batch_paths['output']"
   ]
  },
  {
   "cell_type": "code",
   "execution_count": 6,
   "metadata": {},
   "outputs": [
    {
     "name": "stdout",
     "output_type": "stream",
     "text": [
      "<class 'pandas.core.frame.DataFrame'>\n",
      "RangeIndex: 78 entries, 0 to 77\n",
      "Data columns (total 2 columns):\n",
      " #   Column         Non-Null Count  Dtype \n",
      "---  ------         --------------  ----- \n",
      " 0   Número animal  78 non-null     object\n",
      " 1   Fecha Parto    78 non-null     object\n",
      "dtypes: object(2)\n",
      "memory usage: 1.3+ KB\n"
     ]
    },
    {
     "data": {
      "text/html": [
       "<div>\n",
       "<style scoped>\n",
       "    .dataframe tbody tr th:only-of-type {\n",
       "        vertical-align: middle;\n",
       "    }\n",
       "\n",
       "    .dataframe tbody tr th {\n",
       "        vertical-align: top;\n",
       "    }\n",
       "\n",
       "    .dataframe thead th {\n",
       "        text-align: right;\n",
       "    }\n",
       "</style>\n",
       "<table border=\"1\" class=\"dataframe\">\n",
       "  <thead>\n",
       "    <tr style=\"text-align: right;\">\n",
       "      <th></th>\n",
       "      <th>Número animal</th>\n",
       "      <th>Fecha Parto</th>\n",
       "    </tr>\n",
       "  </thead>\n",
       "  <tbody>\n",
       "    <tr>\n",
       "      <th>0</th>\n",
       "      <td>1471</td>\n",
       "      <td>30/04/2024</td>\n",
       "    </tr>\n",
       "    <tr>\n",
       "      <th>1</th>\n",
       "      <td>314/5</td>\n",
       "      <td>13/06/2024</td>\n",
       "    </tr>\n",
       "  </tbody>\n",
       "</table>\n",
       "</div>"
      ],
      "text/plain": [
       "  Número animal Fecha Parto\n",
       "0          1471  30/04/2024\n",
       "1         314/5  13/06/2024"
      ]
     },
     "execution_count": 6,
     "metadata": {},
     "output_type": "execute_result"
    }
   ],
   "source": [
    "# Get configuration\n",
    "patterns = config.get_file_patterns()\n",
    "columns = config.get_column_settings()\n",
    "settings = config.get_data_settings()\n",
    "\n",
    "# Find the file matching the pattern\n",
    "file_path = glob.glob(os.path.join(folder_sg_path, patterns['sg_excel']))[0]\n",
    "\n",
    "# Read the matched file\n",
    "data_sg = pd.read_excel(\n",
    "    file_path,\n",
    "    header=settings['excel_settings']['header_row']\n",
    ")\n",
    "\n",
    "# Rename columns using config\n",
    "data_sg = data_sg.rename(\n",
    "    columns=columns['rename_map']\n",
    ").copy()\n",
    "\n",
    "# Select and drop NA using config\n",
    "data_sg = data_sg[columns['sg_columns']].dropna().copy()\n",
    "\n",
    "# Format date using config\n",
    "data_sg[\"Fecha Parto\"] = data_sg[\"Fecha Parto\"].dt.strftime(\n",
    "    settings['date_formats']['output'])\n",
    "data_sg.info()\n",
    "data_sg.head(2)\n"
   ]
  },
  {
   "cell_type": "code",
   "execution_count": 7,
   "metadata": {},
   "outputs": [],
   "source": [
    "conf_level = 99.75\n",
    "prompt_input = f\"\"\"Instruction 1: Convert the text in the image to csv.\n",
    "Instruction 2: Employ a strict approach: add 1 asterisk next to the estimated values for those cells whose text-to-digit conversion are below a {conf_level} percent confidence threshold; it does not matter if data is over-flagged.\n",
    "Instruction 3: Include in comments the confidence threshold used.\n",
    "Instruction 4: Do not use outlier-detection as criteria to flag the data.\n",
    "Instruction 5: Make sure to not use outlier-detection as criteria to flag the data.\n",
    "Instruction 6: If headers are present, include them. If no headers are found, do not include any.\n",
    "Instruction 7: Include any comments before returning output. Limit verbosity.\n",
    "Instruction 8: Return output enclosed in brackets to facilitate parsing.\n",
    "Instruction 9: Do not include any additional comments after final output.\n",
    "\"\"\""
   ]
  },
  {
   "cell_type": "code",
   "execution_count": 8,
   "metadata": {},
   "outputs": [
    {
     "name": "stdout",
     "output_type": "stream",
     "text": [
      "['.DS_Store', 'Escáner_20250515_1.png', 'Escáner_20250515_2.png', 'Escáner_20250515_3.png']\n",
      "['/Users/mmvvff/gdrive/prgrmmng/fundo_vt/form2tab/_data/05_2025_02/2_sg_excel/Fecha parto_Mayo 5-11.xlsx']\n"
     ]
    }
   ],
   "source": [
    "print(sorted(os.listdir(folder_img_path)))\n",
    "print(glob.glob(os.path.join(folder_sg_path, patterns['sg_excel'])))"
   ]
  },
  {
   "cell_type": "code",
   "execution_count": 11,
   "metadata": {},
   "outputs": [],
   "source": [
    "data_list = []\n",
    "cols_list = []\n",
    "year = settings['year']\n",
    "\n",
    "class NoColsError(Exception):\n",
    "    pass\n",
    "\n",
    "for filename in sorted(os.listdir(folder_img_path)):\n",
    "    if filename.endswith(('.jpeg', '.jpg')):\n",
    "        clogs.log_file_processing(logger, filename)\n",
    "        clogs.log_column_status(logger, \"initialized\", cols_list)\n",
    "\n",
    "        image_path = os.path.join(folder_img_path, filename)\n",
    "\n",
    "        try:\n",
    "            result = processing.extract_img2text(image_path, prompt_input)\n",
    "            clogs.log_api_comment(logger, result.content[0].text)\n",
    "        except Exception as e:\n",
    "            print(f\"An error occurred: {e}\")\n",
    "            continue  # Skip to next file if there's an error\n",
    "\n",
    "        data_string = result.content[0].text.split(\"[\")[1].replace(\"]\", \"\")\n",
    "        parsed_data = postprocessing.parse_csv_string(data_string)\n",
    "\n",
    "        if not cols_list:\n",
    "            if any(\"vaca\" in s.lower() for s in parsed_data[0]):\n",
    "                cols_list = parsed_data[0]\n",
    "                clogs.log_column_status(logger, \"initialized\", cols_list)\n",
    "            else:\n",
    "                clogs.log_validation_error(logger, parsed_data[0], \"No 'vaca' found\")\n",
    "                raise NoColsError(\"No columns found: Check image folder\")\n",
    "        else:\n",
    "            if any(\"vaca\" in s.lower()\n",
    "                   for s in parsed_data[0]) and (cols_list != parsed_data[0]):\n",
    "                cols_list = parsed_data[0]\n",
    "                clogs.log_column_status(logger, \"updated\", cols_list)\n",
    "            else:\n",
    "                clogs.log_column_status(logger, \"current (no update)\", cols_list)\n",
    "\n",
    "        # Create the DataFrame\n",
    "        try:\n",
    "            data_df = pd.DataFrame(parsed_data[1:], columns=cols_list)\n",
    "            clogs.log_dataframe_creation(logger, success=True)\n",
    "        except Exception as e:\n",
    "            clogs.log_dataframe_creation(logger, success=False, error=str(e))\n",
    "            clogs.log_column_list(logger, cols_list, \"Current columns\")\n",
    "            \n",
    "            for c in parsed_data[1:]:\n",
    "                if len(c) > len(cols_list):\n",
    "                    logger.error(f\"Row longer than columns: {c}\")\n",
    "                    break\n",
    "            \n",
    "            logger.warning(\"Breaking processing loop due to DataFrame creation error\")\n",
    "            break\n",
    "\n",
    "        clogs.log_column_status(logger, \"at end of iteration\", cols_list)\n",
    "\n",
    "        data_df['flag_count'] = postprocessing.calculate_flag_counts(data_df)\n",
    "\n",
    "        col_label_num = 1\n",
    "        for col in data_df.iloc[:, 3:10].columns.tolist():\n",
    "\n",
    "            data_df[col] = postprocessing.clean_column_values(data_df[col])\n",
    "\n",
    "            # Get the index of the specified column\n",
    "            col_index = data_df.columns.get_loc(col)\n",
    "\n",
    "            col_label_str = postprocessing.normalize_month(\n",
    "                postprocessing.normalize_day(col.replace(\".\", \"\")))\n",
    "\n",
    "            # Insert a new column with the column name as the constant value\n",
    "            data_df.insert(col_index, f'Fecha {col_label_num}',\n",
    "                           postprocessing.convert_to_date(\n",
    "                               col_label_str, year = year))\n",
    "            col_label_num += 1\n",
    "            data_df = data_df.rename(columns={col: \"Kg/Leche\"}).copy()\n",
    "\n",
    "        data_df = data_df.drop(\n",
    "            columns=[\"Nombre\", \"Becerro\", \"Fecha PP\", \"#\"],\n",
    "            errors=\"ignore\").copy()\n",
    "\n",
    "        data_df = data_df.rename(columns={\n",
    "            data_df.columns[0]: \"Número animal\"\n",
    "        }).copy()\n",
    "\n",
    "        data_df[\"Número animal\"] = data_df[\"Número animal\"].str.replace(\n",
    "            \"-\", \"/\").copy()\n",
    "        \n",
    "        clogs.log_dataframe_columns(logger, \"data_df\", data_df.columns.tolist())\n",
    "        data_final = data_df.merge(data_sg, on=\"Número animal\", how=\"left\")\n",
    "        clogs.log_dataframe_columns(logger, \"data_final\", data_final.columns.tolist())\n",
    "        data_final[\"Fecha Parto\"] = data_final[\"Fecha Parto\"].fillna(\n",
    "            \"X*\").copy()\n",
    "\n",
    "        # Reorder columns\n",
    "        cols_to_move = [\"Número animal\", \"Fecha Parto\"]\n",
    "        data_final = processing.reorder_columns(data_final, cols_to_move)\n",
    "\n",
    "        clogs.log_column_list(logger, data_final.columns.tolist())\n",
    "        data_list.append(data_final)\n",
    "        clogs.log_process_separator(logger)"
   ]
  },
  {
   "cell_type": "code",
   "execution_count": 10,
   "metadata": {},
   "outputs": [
    {
     "name": "stderr",
     "output_type": "stream",
     "text": [
      "/Users/mmvvff/gdrive/prgrmmng/fundo_vt/form2tab/khipu/src/postprocessing.py:109: SyntaxWarning: invalid escape sequence '\\*'\n",
      "  return string_df.apply(lambda x: x.str.count('\\*')).sum(axis=1)\n"
     ]
    },
    {
     "ename": "IndexError",
     "evalue": "At least one sheet must be visible",
     "output_type": "error",
     "traceback": [
      "\u001b[31m---------------------------------------------------------------------------\u001b[39m",
      "\u001b[31mIndexError\u001b[39m                                Traceback (most recent call last)",
      "\u001b[36mCell\u001b[39m\u001b[36m \u001b[39m\u001b[32mIn[10]\u001b[39m\u001b[32m, line 1\u001b[39m\n\u001b[32m----> \u001b[39m\u001b[32m1\u001b[39m regular_file, final_file = postprocessing.export_data(\n\u001b[32m      2\u001b[39m     data_list=data_list,\n\u001b[32m      3\u001b[39m     folder_output=folder_output,\n\u001b[32m      4\u001b[39m     batch_id=batch_id\n\u001b[32m      5\u001b[39m     )\n",
      "\u001b[36mFile \u001b[39m\u001b[32m~/gdrive/prgrmmng/fundo_vt/form2tab/khipu/src/postprocessing.py:144\u001b[39m, in \u001b[36mexport_data\u001b[39m\u001b[34m(data_list, folder_output, batch_id, base_name)\u001b[39m\n\u001b[32m    142\u001b[39m \u001b[38;5;66;03m# Create regular output file\u001b[39;00m\n\u001b[32m    143\u001b[39m regular_filename = create_filename(base_name, batch_id)\n\u001b[32m--> \u001b[39m\u001b[32m144\u001b[39m regular_path = save_dataframes_to_excel(\n\u001b[32m    145\u001b[39m     dataframes=data_list,\n\u001b[32m    146\u001b[39m     output_path=folder_output,\n\u001b[32m    147\u001b[39m     filename=regular_filename\n\u001b[32m    148\u001b[39m )\n\u001b[32m    150\u001b[39m \u001b[38;5;66;03m# Create final output file\u001b[39;00m\n\u001b[32m    151\u001b[39m final_filename = create_filename(base_name, batch_id, \u001b[33m\"\u001b[39m\u001b[33mfinal\u001b[39m\u001b[33m\"\u001b[39m)\n",
      "\u001b[36mFile \u001b[39m\u001b[32m~/gdrive/prgrmmng/fundo_vt/form2tab/khipu/src/postprocessing.py:127\u001b[39m, in \u001b[36msave_dataframes_to_excel\u001b[39m\u001b[34m(dataframes, output_path, filename, sheet_prefix)\u001b[39m\n\u001b[32m    123\u001b[39m \u001b[38;5;250m\u001b[39m\u001b[33;03m\"\"\"\u001b[39;00m\n\u001b[32m    124\u001b[39m \u001b[33;03mSave list of dataframes to Excel file with named sheets.\"\"\"\u001b[39;00m\n\u001b[32m    125\u001b[39m full_path = os.path.join(output_path, filename)\n\u001b[32m--> \u001b[39m\u001b[32m127\u001b[39m \u001b[38;5;28;01mwith\u001b[39;00m pd.ExcelWriter(full_path) \u001b[38;5;28;01mas\u001b[39;00m writer:\n\u001b[32m    128\u001b[39m     \u001b[38;5;28;01mfor\u001b[39;00m idx, df \u001b[38;5;129;01min\u001b[39;00m \u001b[38;5;28menumerate\u001b[39m(dataframes, start=\u001b[32m1\u001b[39m):\n\u001b[32m    129\u001b[39m         df.to_excel(writer, \n\u001b[32m    130\u001b[39m                    sheet_name=\u001b[33mf\u001b[39m\u001b[33m'\u001b[39m\u001b[38;5;132;01m{\u001b[39;00msheet_prefix\u001b[38;5;132;01m}\u001b[39;00m\u001b[33m_\u001b[39m\u001b[38;5;132;01m{\u001b[39;00midx\u001b[38;5;132;01m}\u001b[39;00m\u001b[33m'\u001b[39m, \n\u001b[32m    131\u001b[39m                    index=\u001b[38;5;28;01mFalse\u001b[39;00m)\n",
      "\u001b[36mFile \u001b[39m\u001b[32m~/anaconda3/envs/pandas_claude/lib/python3.12/site-packages/pandas/io/excel/_base.py:1353\u001b[39m, in \u001b[36mExcelWriter.__exit__\u001b[39m\u001b[34m(self, exc_type, exc_value, traceback)\u001b[39m\n\u001b[32m   1347\u001b[39m \u001b[38;5;28;01mdef\u001b[39;00m\u001b[38;5;250m \u001b[39m\u001b[34m__exit__\u001b[39m(\n\u001b[32m   1348\u001b[39m     \u001b[38;5;28mself\u001b[39m,\n\u001b[32m   1349\u001b[39m     exc_type: \u001b[38;5;28mtype\u001b[39m[\u001b[38;5;167;01mBaseException\u001b[39;00m] | \u001b[38;5;28;01mNone\u001b[39;00m,\n\u001b[32m   1350\u001b[39m     exc_value: \u001b[38;5;167;01mBaseException\u001b[39;00m | \u001b[38;5;28;01mNone\u001b[39;00m,\n\u001b[32m   1351\u001b[39m     traceback: TracebackType | \u001b[38;5;28;01mNone\u001b[39;00m,\n\u001b[32m   1352\u001b[39m ) -> \u001b[38;5;28;01mNone\u001b[39;00m:\n\u001b[32m-> \u001b[39m\u001b[32m1353\u001b[39m     \u001b[38;5;28mself\u001b[39m.close()\n",
      "\u001b[36mFile \u001b[39m\u001b[32m~/anaconda3/envs/pandas_claude/lib/python3.12/site-packages/pandas/io/excel/_base.py:1357\u001b[39m, in \u001b[36mExcelWriter.close\u001b[39m\u001b[34m(self)\u001b[39m\n\u001b[32m   1355\u001b[39m \u001b[38;5;28;01mdef\u001b[39;00m\u001b[38;5;250m \u001b[39m\u001b[34mclose\u001b[39m(\u001b[38;5;28mself\u001b[39m) -> \u001b[38;5;28;01mNone\u001b[39;00m:\n\u001b[32m   1356\u001b[39m \u001b[38;5;250m    \u001b[39m\u001b[33;03m\"\"\"synonym for save, to make it more file-like\"\"\"\u001b[39;00m\n\u001b[32m-> \u001b[39m\u001b[32m1357\u001b[39m     \u001b[38;5;28mself\u001b[39m._save()\n\u001b[32m   1358\u001b[39m     \u001b[38;5;28mself\u001b[39m._handles.close()\n",
      "\u001b[36mFile \u001b[39m\u001b[32m~/anaconda3/envs/pandas_claude/lib/python3.12/site-packages/pandas/io/excel/_openpyxl.py:110\u001b[39m, in \u001b[36mOpenpyxlWriter._save\u001b[39m\u001b[34m(self)\u001b[39m\n\u001b[32m    106\u001b[39m \u001b[38;5;28;01mdef\u001b[39;00m\u001b[38;5;250m \u001b[39m\u001b[34m_save\u001b[39m(\u001b[38;5;28mself\u001b[39m) -> \u001b[38;5;28;01mNone\u001b[39;00m:\n\u001b[32m    107\u001b[39m \u001b[38;5;250m    \u001b[39m\u001b[33;03m\"\"\"\u001b[39;00m\n\u001b[32m    108\u001b[39m \u001b[33;03m    Save workbook to disk.\u001b[39;00m\n\u001b[32m    109\u001b[39m \u001b[33;03m    \"\"\"\u001b[39;00m\n\u001b[32m--> \u001b[39m\u001b[32m110\u001b[39m     \u001b[38;5;28mself\u001b[39m.book.save(\u001b[38;5;28mself\u001b[39m._handles.handle)\n\u001b[32m    111\u001b[39m     \u001b[38;5;28;01mif\u001b[39;00m \u001b[33m\"\u001b[39m\u001b[33mr+\u001b[39m\u001b[33m\"\u001b[39m \u001b[38;5;129;01min\u001b[39;00m \u001b[38;5;28mself\u001b[39m._mode \u001b[38;5;129;01mand\u001b[39;00m \u001b[38;5;129;01mnot\u001b[39;00m \u001b[38;5;28misinstance\u001b[39m(\u001b[38;5;28mself\u001b[39m._handles.handle, mmap.mmap):\n\u001b[32m    112\u001b[39m         \u001b[38;5;66;03m# truncate file to the written content\u001b[39;00m\n\u001b[32m    113\u001b[39m         \u001b[38;5;28mself\u001b[39m._handles.handle.truncate()\n",
      "\u001b[36mFile \u001b[39m\u001b[32m~/anaconda3/envs/pandas_claude/lib/python3.12/site-packages/openpyxl/workbook/workbook.py:386\u001b[39m, in \u001b[36mWorkbook.save\u001b[39m\u001b[34m(self, filename)\u001b[39m\n\u001b[32m    384\u001b[39m \u001b[38;5;28;01mif\u001b[39;00m \u001b[38;5;28mself\u001b[39m.write_only \u001b[38;5;129;01mand\u001b[39;00m \u001b[38;5;129;01mnot\u001b[39;00m \u001b[38;5;28mself\u001b[39m.worksheets:\n\u001b[32m    385\u001b[39m     \u001b[38;5;28mself\u001b[39m.create_sheet()\n\u001b[32m--> \u001b[39m\u001b[32m386\u001b[39m save_workbook(\u001b[38;5;28mself\u001b[39m, filename)\n",
      "\u001b[36mFile \u001b[39m\u001b[32m~/anaconda3/envs/pandas_claude/lib/python3.12/site-packages/openpyxl/writer/excel.py:294\u001b[39m, in \u001b[36msave_workbook\u001b[39m\u001b[34m(workbook, filename)\u001b[39m\n\u001b[32m    292\u001b[39m workbook.properties.modified = datetime.datetime.now(tz=datetime.timezone.utc).replace(tzinfo=\u001b[38;5;28;01mNone\u001b[39;00m)\n\u001b[32m    293\u001b[39m writer = ExcelWriter(workbook, archive)\n\u001b[32m--> \u001b[39m\u001b[32m294\u001b[39m writer.save()\n\u001b[32m    295\u001b[39m \u001b[38;5;28;01mreturn\u001b[39;00m \u001b[38;5;28;01mTrue\u001b[39;00m\n",
      "\u001b[36mFile \u001b[39m\u001b[32m~/anaconda3/envs/pandas_claude/lib/python3.12/site-packages/openpyxl/writer/excel.py:275\u001b[39m, in \u001b[36mExcelWriter.save\u001b[39m\u001b[34m(self)\u001b[39m\n\u001b[32m    273\u001b[39m \u001b[38;5;28;01mdef\u001b[39;00m\u001b[38;5;250m \u001b[39m\u001b[34msave\u001b[39m(\u001b[38;5;28mself\u001b[39m):\n\u001b[32m    274\u001b[39m \u001b[38;5;250m    \u001b[39m\u001b[33;03m\"\"\"Write data into the archive.\"\"\"\u001b[39;00m\n\u001b[32m--> \u001b[39m\u001b[32m275\u001b[39m     \u001b[38;5;28mself\u001b[39m.write_data()\n\u001b[32m    276\u001b[39m     \u001b[38;5;28mself\u001b[39m._archive.close()\n",
      "\u001b[36mFile \u001b[39m\u001b[32m~/anaconda3/envs/pandas_claude/lib/python3.12/site-packages/openpyxl/writer/excel.py:89\u001b[39m, in \u001b[36mExcelWriter.write_data\u001b[39m\u001b[34m(self)\u001b[39m\n\u001b[32m     87\u001b[39m writer = WorkbookWriter(\u001b[38;5;28mself\u001b[39m.workbook)\n\u001b[32m     88\u001b[39m archive.writestr(ARC_ROOT_RELS, writer.write_root_rels())\n\u001b[32m---> \u001b[39m\u001b[32m89\u001b[39m archive.writestr(ARC_WORKBOOK, writer.write())\n\u001b[32m     90\u001b[39m archive.writestr(ARC_WORKBOOK_RELS, writer.write_rels())\n\u001b[32m     92\u001b[39m \u001b[38;5;28mself\u001b[39m._merge_vba()\n",
      "\u001b[36mFile \u001b[39m\u001b[32m~/anaconda3/envs/pandas_claude/lib/python3.12/site-packages/openpyxl/workbook/_writer.py:150\u001b[39m, in \u001b[36mWorkbookWriter.write\u001b[39m\u001b[34m(self)\u001b[39m\n\u001b[32m    148\u001b[39m \u001b[38;5;28mself\u001b[39m.write_names()\n\u001b[32m    149\u001b[39m \u001b[38;5;28mself\u001b[39m.write_pivots()\n\u001b[32m--> \u001b[39m\u001b[32m150\u001b[39m \u001b[38;5;28mself\u001b[39m.write_views()\n\u001b[32m    151\u001b[39m \u001b[38;5;28mself\u001b[39m.write_refs()\n\u001b[32m    153\u001b[39m \u001b[38;5;28;01mreturn\u001b[39;00m tostring(\u001b[38;5;28mself\u001b[39m.package.to_tree())\n",
      "\u001b[36mFile \u001b[39m\u001b[32m~/anaconda3/envs/pandas_claude/lib/python3.12/site-packages/openpyxl/workbook/_writer.py:137\u001b[39m, in \u001b[36mWorkbookWriter.write_views\u001b[39m\u001b[34m(self)\u001b[39m\n\u001b[32m    136\u001b[39m \u001b[38;5;28;01mdef\u001b[39;00m\u001b[38;5;250m \u001b[39m\u001b[34mwrite_views\u001b[39m(\u001b[38;5;28mself\u001b[39m):\n\u001b[32m--> \u001b[39m\u001b[32m137\u001b[39m     active = get_active_sheet(\u001b[38;5;28mself\u001b[39m.wb)\n\u001b[32m    138\u001b[39m     \u001b[38;5;28;01mif\u001b[39;00m \u001b[38;5;28mself\u001b[39m.wb.views:\n\u001b[32m    139\u001b[39m         \u001b[38;5;28mself\u001b[39m.wb.views[\u001b[32m0\u001b[39m].activeTab = active\n",
      "\u001b[36mFile \u001b[39m\u001b[32m~/anaconda3/envs/pandas_claude/lib/python3.12/site-packages/openpyxl/workbook/_writer.py:35\u001b[39m, in \u001b[36mget_active_sheet\u001b[39m\u001b[34m(wb)\u001b[39m\n\u001b[32m     33\u001b[39m visible_sheets = [idx \u001b[38;5;28;01mfor\u001b[39;00m idx, sheet \u001b[38;5;129;01min\u001b[39;00m \u001b[38;5;28menumerate\u001b[39m(wb._sheets) \u001b[38;5;28;01mif\u001b[39;00m sheet.sheet_state == \u001b[33m\"\u001b[39m\u001b[33mvisible\u001b[39m\u001b[33m\"\u001b[39m]\n\u001b[32m     34\u001b[39m \u001b[38;5;28;01mif\u001b[39;00m \u001b[38;5;129;01mnot\u001b[39;00m visible_sheets:\n\u001b[32m---> \u001b[39m\u001b[32m35\u001b[39m     \u001b[38;5;28;01mraise\u001b[39;00m \u001b[38;5;167;01mIndexError\u001b[39;00m(\u001b[33m\"\u001b[39m\u001b[33mAt least one sheet must be visible\u001b[39m\u001b[33m\"\u001b[39m)\n\u001b[32m     37\u001b[39m idx = wb._active_sheet_index\n\u001b[32m     38\u001b[39m sheet = wb.active\n",
      "\u001b[31mIndexError\u001b[39m: At least one sheet must be visible"
     ]
    }
   ],
   "source": [
    "regular_file, final_file = postprocessing.export_data(\n",
    "    data_list=data_list,\n",
    "    folder_output=folder_output,\n",
    "    batch_id=batch_id\n",
    "    )"
   ]
  }
 ],
 "metadata": {
  "kernelspec": {
   "display_name": "pandas_claude",
   "language": "python",
   "name": "python3"
  },
  "language_info": {
   "codemirror_mode": {
    "name": "ipython",
    "version": 3
   },
   "file_extension": ".py",
   "mimetype": "text/x-python",
   "name": "python",
   "nbconvert_exporter": "python",
   "pygments_lexer": "ipython3",
   "version": "3.12.9"
  }
 },
 "nbformat": 4,
 "nbformat_minor": 2
}
